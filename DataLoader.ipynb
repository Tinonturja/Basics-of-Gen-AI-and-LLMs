{
 "cells": [
  {
   "cell_type": "markdown",
   "id": "fd2b375d-1771-4c8a-aac5-0906bb817530",
   "metadata": {},
   "source": [
    "Helps prepare and Load Data --> Implemented Using DataLoader class in PyTorch\n",
    "\n",
    "Efficient Batching and Suffling of data\n",
    "\n",
    "Efficient Loading and Preprocessing data\n"
   ]
  }
 ],
 "metadata": {
  "kernelspec": {
   "display_name": "Python 3 (ipykernel)",
   "language": "python",
   "name": "python3"
  },
  "language_info": {
   "codemirror_mode": {
    "name": "ipython",
    "version": 3
   },
   "file_extension": ".py",
   "mimetype": "text/x-python",
   "name": "python",
   "nbconvert_exporter": "python",
   "pygments_lexer": "ipython3",
   "version": "3.11.5"
  }
 },
 "nbformat": 4,
 "nbformat_minor": 5
}
